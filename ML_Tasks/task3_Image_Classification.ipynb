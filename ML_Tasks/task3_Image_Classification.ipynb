{
 "cells": [
  {
   "cell_type": "code",
   "execution_count": 1,
   "metadata": {},
   "outputs": [
    {
     "name": "stdout",
     "output_type": "stream",
     "text": [
      "Downloading data from https://storage.googleapis.com/tensorflow/tf-keras-datasets/mnist.npz\n",
      "\u001b[1m11490434/11490434\u001b[0m \u001b[32m━━━━━━━━━━━━━━━━━━━━\u001b[0m\u001b[37m\u001b[0m \u001b[1m16s\u001b[0m 1us/step\n"
     ]
    },
    {
     "name": "stderr",
     "output_type": "stream",
     "text": [
      "c:\\Users\\Asus\\anaconda3\\envs\\tensorflow\\Lib\\site-packages\\keras\\src\\layers\\reshaping\\flatten.py:37: UserWarning: Do not pass an `input_shape`/`input_dim` argument to a layer. When using Sequential models, prefer using an `Input(shape)` object as the first layer in the model instead.\n",
      "  super().__init__(**kwargs)\n"
     ]
    },
    {
     "name": "stdout",
     "output_type": "stream",
     "text": [
      "Epoch 1/5\n",
      "\u001b[1m1688/1688\u001b[0m \u001b[32m━━━━━━━━━━━━━━━━━━━━\u001b[0m\u001b[37m\u001b[0m \u001b[1m7s\u001b[0m 3ms/step - accuracy: 0.8741 - loss: 0.4494 - val_accuracy: 0.9627 - val_loss: 0.1349\n",
      "Epoch 2/5\n",
      "\u001b[1m1688/1688\u001b[0m \u001b[32m━━━━━━━━━━━━━━━━━━━━\u001b[0m\u001b[37m\u001b[0m \u001b[1m6s\u001b[0m 4ms/step - accuracy: 0.9610 - loss: 0.1287 - val_accuracy: 0.9717 - val_loss: 0.0968\n",
      "Epoch 3/5\n",
      "\u001b[1m1688/1688\u001b[0m \u001b[32m━━━━━━━━━━━━━━━━━━━━\u001b[0m\u001b[37m\u001b[0m \u001b[1m7s\u001b[0m 4ms/step - accuracy: 0.9766 - loss: 0.0819 - val_accuracy: 0.9755 - val_loss: 0.0853\n",
      "Epoch 4/5\n",
      "\u001b[1m1688/1688\u001b[0m \u001b[32m━━━━━━━━━━━━━━━━━━━━\u001b[0m\u001b[37m\u001b[0m \u001b[1m8s\u001b[0m 5ms/step - accuracy: 0.9832 - loss: 0.0586 - val_accuracy: 0.9760 - val_loss: 0.0832\n",
      "Epoch 5/5\n",
      "\u001b[1m1688/1688\u001b[0m \u001b[32m━━━━━━━━━━━━━━━━━━━━\u001b[0m\u001b[37m\u001b[0m \u001b[1m8s\u001b[0m 5ms/step - accuracy: 0.9869 - loss: 0.0449 - val_accuracy: 0.9768 - val_loss: 0.0789\n",
      "\u001b[1m313/313\u001b[0m \u001b[32m━━━━━━━━━━━━━━━━━━━━\u001b[0m\u001b[37m\u001b[0m \u001b[1m1s\u001b[0m 3ms/step - accuracy: 0.9738 - loss: 0.0859\n",
      "Test accuracy: 0.9783999919891357\n"
     ]
    }
   ],
   "source": [
    "# Import necessary libraries from TensorFlow\n",
    "import tensorflow as tf\n",
    "from tensorflow.keras.datasets import mnist         # For loading the MNIST dataset\n",
    "from tensorflow.keras.models import Sequential        # For building a sequential model\n",
    "from tensorflow.keras.layers import Dense, Flatten    # For adding layers to our model\n",
    "from tensorflow.keras.utils import to_categorical       # For converting labels to one-hot vectors\n",
    "\n",
    "# 1. Load the MNIST dataset\n",
    "# The dataset is split into training and testing sets.\n",
    "# x_train and x_test contain image data (28x28 grayscale images).\n",
    "# y_train and y_test contain labels (integers 0-9).\n",
    "(x_train, y_train), (x_test, y_test) = mnist.load_data()\n",
    "\n",
    "# 2. Preprocess the data\n",
    "# Normalize the images by scaling pixel values from [0, 255] to [0, 1]\n",
    "x_train = x_train / 255.0\n",
    "x_test = x_test / 255.0\n",
    "\n",
    "# Convert the labels to one-hot encoded vectors.\n",
    "# For example, the label 3 becomes [0, 0, 0, 1, 0, 0, 0, 0, 0, 0]\n",
    "y_train = to_categorical(y_train, 10)\n",
    "y_test = to_categorical(y_test, 10)\n",
    "\n",
    "# 3. Build the Neural Network Model\n",
    "# We use a simple feed-forward (dense) network with one hidden layer.\n",
    "model = Sequential([\n",
    "    # Flatten the 28x28 image into a 784-element vector.\n",
    "    Flatten(input_shape=(28, 28)),\n",
    "    \n",
    "    # Add a fully connected layer with 128 neurons and ReLU activation.\n",
    "    Dense(128, activation='relu'),\n",
    "    \n",
    "    # Add the output layer with 10 neurons (one per digit) and softmax activation.\n",
    "    # Softmax converts the outputs to probabilities that sum to 1.\n",
    "    Dense(10, activation='softmax')\n",
    "])\n",
    "\n",
    "# 4. Compile the Model\n",
    "# - 'adam' is an efficient optimizer.\n",
    "# - 'categorical_crossentropy' is the loss function used for multi-class classification.\n",
    "# - We track the 'accuracy' metric during training.\n",
    "model.compile(optimizer='adam',\n",
    "              loss='categorical_crossentropy',\n",
    "              metrics=['accuracy'])\n",
    "\n",
    "# 5. Train the Model\n",
    "# Train the model for 5 epochs with a batch size of 32.\n",
    "# validation_split=0.1 reserves 10% of the training data for validation.\n",
    "model.fit(x_train, y_train, epochs=5, batch_size=32, validation_split=0.1)\n",
    "\n",
    "# 6. Evaluate the Model\n",
    "# Evaluate the trained model on the test dataset and print the accuracy.\n",
    "test_loss, test_accuracy = model.evaluate(x_test, y_test)\n",
    "print(\"Test accuracy:\", test_accuracy)\n"
   ]
  }
 ],
 "metadata": {
  "kernelspec": {
   "display_name": "tensorflow",
   "language": "python",
   "name": "your_env_name"
  },
  "language_info": {
   "codemirror_mode": {
    "name": "ipython",
    "version": 3
   },
   "file_extension": ".py",
   "mimetype": "text/x-python",
   "name": "python",
   "nbconvert_exporter": "python",
   "pygments_lexer": "ipython3",
   "version": "3.12.7"
  }
 },
 "nbformat": 4,
 "nbformat_minor": 2
}
